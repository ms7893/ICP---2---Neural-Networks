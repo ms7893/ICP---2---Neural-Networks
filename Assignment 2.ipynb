{
  "nbformat": 4,
  "nbformat_minor": 0,
  "metadata": {
    "colab": {
      "provenance": []
    },
    "kernelspec": {
      "name": "python3",
      "display_name": "Python 3"
    },
    "language_info": {
      "name": "python"
    }
  },
  "cells": [
    {
      "cell_type": "code",
      "execution_count": 4,
      "metadata": {
        "colab": {
          "base_uri": "https://localhost:8080/"
        },
        "id": "hIZc54X3PBOB",
        "outputId": "8edfa685-648b-4078-dcc2-e141db875218"
      },
      "outputs": [
        {
          "output_type": "stream",
          "name": "stdout",
          "text": [
            "5966.0\n",
            "5966.0\n"
          ]
        }
      ],
      "source": [
        "class EmployeeClass:\n",
        "#Create a data member to count the number of Employees\n",
        "    NoOfEmployees = 0\n",
        "    salaries = []\n",
        "\n",
        "#Create a constructor to initialize name, family, salary, department\n",
        "    def __init__(self, name, family, salary, department):\n",
        "        self.name = name\n",
        "        self.family = family\n",
        "        self.salary = salary\n",
        "        self.department = department\n",
        "#Incrementing Employee Count\n",
        "        EmployeeClass.NoOfEmployees += 1\n",
        "#Appending them to a list\n",
        "        EmployeeClass.salaries.append(self.salary)\n",
        "#Create a function to average salary\n",
        "    def average_salary(self):\n",
        "        return sum(EmployeeClass.salaries) / EmployeeClass.NoOfEmployees\n",
        "#Create a Fulltime Employee class and it should inherit the properties of Employee class\n",
        "class FulltimeEmployeeClass(EmployeeClass):\n",
        "    pass\n",
        "#Create the instances of Fulltime Employee class and Employee class and call their member functions\n",
        "e1 = EmployeeClass(\"Revanth\", \"Bharadwaj\", 8900, \"IT\")\n",
        "e2 = EmployeeClass(\"Suresh\", \"Yadav\", 2500, \"IT\")\n",
        "e3 = EmployeeClass(\"Teju\",\"Suryakantam\",5730,\"HR\")\n",
        "e4 = EmployeeClass(\"Pavan\",\"Krishna\",4700,\"IT\")\n",
        "e5 = FulltimeEmployeeClass(\"Baba\", \"Ramdev\", 8000, \"HR\")\n",
        "\n",
        "#Using the same function in inherited class\n",
        "print(e1.average_salary())\n",
        "print(e5.average_salary())"
      ]
    },
    {
      "cell_type": "code",
      "source": [
        "import numpy as np #importing numpy library\n",
        "vec=np.arange(1,21,dtype=float) #creating a numpy vector with arange function\n",
        "print(vec)\n",
        "vec=vec.reshape(4,5)#reshaping the vector with reshape() function\n",
        "print(vec)\n",
        "vec=np.where(np.isin(vec,vec.max(axis=1)),0,vec)#finding the max values in row and replacing them with zero using np.where() and np.max() function\n",
        "vec"
      ],
      "metadata": {
        "colab": {
          "base_uri": "https://localhost:8080/"
        },
        "id": "xgZblE7PP_K3",
        "outputId": "f2d57ade-5dcb-465f-b2d0-befe5cb32c45"
      },
      "execution_count": 3,
      "outputs": [
        {
          "output_type": "stream",
          "name": "stdout",
          "text": [
            "[ 1.  2.  3.  4.  5.  6.  7.  8.  9. 10. 11. 12. 13. 14. 15. 16. 17. 18.\n",
            " 19. 20.]\n",
            "[[ 1.  2.  3.  4.  5.]\n",
            " [ 6.  7.  8.  9. 10.]\n",
            " [11. 12. 13. 14. 15.]\n",
            " [16. 17. 18. 19. 20.]]\n"
          ]
        },
        {
          "output_type": "execute_result",
          "data": {
            "text/plain": [
              "array([[ 1.,  2.,  3.,  4.,  0.],\n",
              "       [ 6.,  7.,  8.,  9.,  0.],\n",
              "       [11., 12., 13., 14.,  0.],\n",
              "       [16., 17., 18., 19.,  0.]])"
            ]
          },
          "metadata": {},
          "execution_count": 3
        }
      ]
    }
  ]
}